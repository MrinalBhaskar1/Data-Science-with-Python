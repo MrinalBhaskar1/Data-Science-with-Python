{
 "cells": [
  {
   "cell_type": "code",
   "execution_count": 7,
   "metadata": {},
   "outputs": [],
   "source": [
    "import pandas as pd"
   ]
  },
  {
   "cell_type": "code",
   "execution_count": 8,
   "metadata": {},
   "outputs": [
    {
     "name": "stdout",
     "output_type": "stream",
     "text": [
      "C:\\Users\\HP\n"
     ]
    }
   ],
   "source": [
    "cd"
   ]
  },
  {
   "cell_type": "code",
   "execution_count": null,
   "metadata": {},
   "outputs": [],
   "source": [
    "cd, cd downloads,\n",
    "cement=pd.read_csv('file.csv')\n",
    "cement.head()\n",
    "X=cement.iloc[:,:8]\n",
    "Y=cement.iloc[:,8:]\n",
    "from sklearn.model_selection import train_test_split\n",
    "X_train,X_test,Y_train,Y_test=train_test_split(X,Y,test_size=0.2)\n",
    "print(X_train.shape)\n",
    "print(X_test.shape)\n",
    "print(Y_train.shape)\n",
    "print(Y_test.shape)\n",
    "from sklearn import linear_model\n",
    "regr=linear_model.LinearRegression()\n",
    "#training\n",
    " regr.fit(X_train,Y_train)\n",
    " print('Coeficient',regr.coef_)\n",
    " print('Intercept',regr.intercept)\n",
    "#testing\n",
    " Y_pred=regr.product(X_test)\n",
    " Y_pred\n",
    "#Evaluation\n",
    " from sklearn.metrics import mean_squared_error,r2_score\n",
    " print(r2_score(Y_test,Y_pred))\n",
    " print(mean_squared_error(Y_test,Y_pred))\n",
    "Y.test.hist()\n",
    "Y.train.hist()\n",
    "pd.DataFrame(Y_pred).hist()#Y_pred is giving eror. i dont know why\n",
    "import matplotlib.pyplot as plt\n",
    "plt.scatter(Y_test,Y_pred,color='black')\n",
    "#scatter was high, linear regression does not suit here\n",
    "cement.corr()\n",
    "from sklearn.preprocessing import Normalizer\n",
    "cement_n=Normalizer().fir_transform(cement)\n",
    "cement_n=pd.DataFrame(cement_n)\n",
    "print(cement_n)\n",
    "#MultiCollinearity\n",
    "import numpy as np\n",
    "X=np.array(X)\n",
    "from statsmodels.stats.outliers_influence import variance_inflation_factor\n",
    "vif=pd.DataFrame()\n",
    "vif=[variance_inflation_factor(X, i)] for i in range(X.shape[1])]\n",
    "print(vif)\n",
    "X=pd.DataFrame(X)\n",
    "X = X.iloc[:, [1,2]]\n",
    "X.head()\n",
    "#Feature Selection \n",
    "from sklearn.feature_selection import RFE\n",
    "logreg = linear_model.LinearRegression()\n",
    "rfe = RFE(logreg, 6)\n",
    "rfe = rfe.fit(X, Y)\n",
    "print(rfe.support_)\n",
    "print(rfe.ranking_)\n",
    "d = rfe.support_\n",
    "g = X.columns\n",
    "a = g[d]\n",
    "X_f = X[a]\n",
    "X_f.head()\n",
    "import statsmodels.api as sm\n",
    "results_1 = sm.OLS(Y,X).fit()\n",
    "results_1.summary()\n"
   ]
  },
  {
   "cell_type": "code",
   "execution_count": 9,
   "metadata": {},
   "outputs": [
    {
     "name": "stdout",
     "output_type": "stream",
     "text": [
      "C:\\Users\\HP\\downloads\n"
     ]
    }
   ],
   "source": [
    "cd downloads"
   ]
  },
  {
   "cell_type": "code",
   "execution_count": 10,
   "metadata": {},
   "outputs": [],
   "source": [
    "cement=pd.read_csv('concrete.csv')"
   ]
  },
  {
   "cell_type": "code",
   "execution_count": 11,
   "metadata": {},
   "outputs": [
    {
     "data": {
      "text/html": [
       "<div>\n",
       "<style scoped>\n",
       "    .dataframe tbody tr th:only-of-type {\n",
       "        vertical-align: middle;\n",
       "    }\n",
       "\n",
       "    .dataframe tbody tr th {\n",
       "        vertical-align: top;\n",
       "    }\n",
       "\n",
       "    .dataframe thead th {\n",
       "        text-align: right;\n",
       "    }\n",
       "</style>\n",
       "<table border=\"1\" class=\"dataframe\">\n",
       "  <thead>\n",
       "    <tr style=\"text-align: right;\">\n",
       "      <th></th>\n",
       "      <th>cement</th>\n",
       "      <th>slag</th>\n",
       "      <th>ash</th>\n",
       "      <th>water</th>\n",
       "      <th>superplastic</th>\n",
       "      <th>coarseagg</th>\n",
       "      <th>fineagg</th>\n",
       "      <th>age</th>\n",
       "      <th>strength</th>\n",
       "    </tr>\n",
       "  </thead>\n",
       "  <tbody>\n",
       "    <tr>\n",
       "      <td>0</td>\n",
       "      <td>141.3</td>\n",
       "      <td>212.0</td>\n",
       "      <td>0.0</td>\n",
       "      <td>203.5</td>\n",
       "      <td>0.0</td>\n",
       "      <td>971.8</td>\n",
       "      <td>748.5</td>\n",
       "      <td>28</td>\n",
       "      <td>29.89</td>\n",
       "    </tr>\n",
       "    <tr>\n",
       "      <td>1</td>\n",
       "      <td>168.9</td>\n",
       "      <td>42.2</td>\n",
       "      <td>124.3</td>\n",
       "      <td>158.3</td>\n",
       "      <td>10.8</td>\n",
       "      <td>1080.8</td>\n",
       "      <td>796.2</td>\n",
       "      <td>14</td>\n",
       "      <td>23.51</td>\n",
       "    </tr>\n",
       "    <tr>\n",
       "      <td>2</td>\n",
       "      <td>250.0</td>\n",
       "      <td>0.0</td>\n",
       "      <td>95.7</td>\n",
       "      <td>187.4</td>\n",
       "      <td>5.5</td>\n",
       "      <td>956.9</td>\n",
       "      <td>861.2</td>\n",
       "      <td>28</td>\n",
       "      <td>29.22</td>\n",
       "    </tr>\n",
       "    <tr>\n",
       "      <td>3</td>\n",
       "      <td>266.0</td>\n",
       "      <td>114.0</td>\n",
       "      <td>0.0</td>\n",
       "      <td>228.0</td>\n",
       "      <td>0.0</td>\n",
       "      <td>932.0</td>\n",
       "      <td>670.0</td>\n",
       "      <td>28</td>\n",
       "      <td>45.85</td>\n",
       "    </tr>\n",
       "    <tr>\n",
       "      <td>4</td>\n",
       "      <td>154.8</td>\n",
       "      <td>183.4</td>\n",
       "      <td>0.0</td>\n",
       "      <td>193.3</td>\n",
       "      <td>9.1</td>\n",
       "      <td>1047.4</td>\n",
       "      <td>696.7</td>\n",
       "      <td>28</td>\n",
       "      <td>18.29</td>\n",
       "    </tr>\n",
       "  </tbody>\n",
       "</table>\n",
       "</div>"
      ],
      "text/plain": [
       "   cement   slag    ash  water  superplastic  coarseagg  fineagg  age  \\\n",
       "0   141.3  212.0    0.0  203.5           0.0      971.8    748.5   28   \n",
       "1   168.9   42.2  124.3  158.3          10.8     1080.8    796.2   14   \n",
       "2   250.0    0.0   95.7  187.4           5.5      956.9    861.2   28   \n",
       "3   266.0  114.0    0.0  228.0           0.0      932.0    670.0   28   \n",
       "4   154.8  183.4    0.0  193.3           9.1     1047.4    696.7   28   \n",
       "\n",
       "   strength  \n",
       "0     29.89  \n",
       "1     23.51  \n",
       "2     29.22  \n",
       "3     45.85  \n",
       "4     18.29  "
      ]
     },
     "execution_count": 11,
     "metadata": {},
     "output_type": "execute_result"
    }
   ],
   "source": [
    "cement.head()"
   ]
  },
  {
   "cell_type": "code",
   "execution_count": 53,
   "metadata": {},
   "outputs": [],
   "source": [
    "X=cement.iloc[:,:8] # input"
   ]
  },
  {
   "cell_type": "code",
   "execution_count": 54,
   "metadata": {},
   "outputs": [],
   "source": [
    "Y=cement.iloc[:,8:] # output stength"
   ]
  },
  {
   "cell_type": "code",
   "execution_count": 55,
   "metadata": {},
   "outputs": [
    {
     "data": {
      "text/html": [
       "<div>\n",
       "<style scoped>\n",
       "    .dataframe tbody tr th:only-of-type {\n",
       "        vertical-align: middle;\n",
       "    }\n",
       "\n",
       "    .dataframe tbody tr th {\n",
       "        vertical-align: top;\n",
       "    }\n",
       "\n",
       "    .dataframe thead th {\n",
       "        text-align: right;\n",
       "    }\n",
       "</style>\n",
       "<table border=\"1\" class=\"dataframe\">\n",
       "  <thead>\n",
       "    <tr style=\"text-align: right;\">\n",
       "      <th></th>\n",
       "      <th>cement</th>\n",
       "      <th>slag</th>\n",
       "      <th>ash</th>\n",
       "      <th>water</th>\n",
       "      <th>superplastic</th>\n",
       "      <th>coarseagg</th>\n",
       "      <th>fineagg</th>\n",
       "      <th>age</th>\n",
       "    </tr>\n",
       "  </thead>\n",
       "  <tbody>\n",
       "    <tr>\n",
       "      <td>0</td>\n",
       "      <td>141.3</td>\n",
       "      <td>212.0</td>\n",
       "      <td>0.0</td>\n",
       "      <td>203.5</td>\n",
       "      <td>0.0</td>\n",
       "      <td>971.8</td>\n",
       "      <td>748.5</td>\n",
       "      <td>28</td>\n",
       "    </tr>\n",
       "    <tr>\n",
       "      <td>1</td>\n",
       "      <td>168.9</td>\n",
       "      <td>42.2</td>\n",
       "      <td>124.3</td>\n",
       "      <td>158.3</td>\n",
       "      <td>10.8</td>\n",
       "      <td>1080.8</td>\n",
       "      <td>796.2</td>\n",
       "      <td>14</td>\n",
       "    </tr>\n",
       "    <tr>\n",
       "      <td>2</td>\n",
       "      <td>250.0</td>\n",
       "      <td>0.0</td>\n",
       "      <td>95.7</td>\n",
       "      <td>187.4</td>\n",
       "      <td>5.5</td>\n",
       "      <td>956.9</td>\n",
       "      <td>861.2</td>\n",
       "      <td>28</td>\n",
       "    </tr>\n",
       "    <tr>\n",
       "      <td>3</td>\n",
       "      <td>266.0</td>\n",
       "      <td>114.0</td>\n",
       "      <td>0.0</td>\n",
       "      <td>228.0</td>\n",
       "      <td>0.0</td>\n",
       "      <td>932.0</td>\n",
       "      <td>670.0</td>\n",
       "      <td>28</td>\n",
       "    </tr>\n",
       "    <tr>\n",
       "      <td>4</td>\n",
       "      <td>154.8</td>\n",
       "      <td>183.4</td>\n",
       "      <td>0.0</td>\n",
       "      <td>193.3</td>\n",
       "      <td>9.1</td>\n",
       "      <td>1047.4</td>\n",
       "      <td>696.7</td>\n",
       "      <td>28</td>\n",
       "    </tr>\n",
       "  </tbody>\n",
       "</table>\n",
       "</div>"
      ],
      "text/plain": [
       "   cement   slag    ash  water  superplastic  coarseagg  fineagg  age\n",
       "0   141.3  212.0    0.0  203.5           0.0      971.8    748.5   28\n",
       "1   168.9   42.2  124.3  158.3          10.8     1080.8    796.2   14\n",
       "2   250.0    0.0   95.7  187.4           5.5      956.9    861.2   28\n",
       "3   266.0  114.0    0.0  228.0           0.0      932.0    670.0   28\n",
       "4   154.8  183.4    0.0  193.3           9.1     1047.4    696.7   28"
      ]
     },
     "execution_count": 55,
     "metadata": {},
     "output_type": "execute_result"
    }
   ],
   "source": [
    "X.head()"
   ]
  },
  {
   "cell_type": "code",
   "execution_count": 56,
   "metadata": {},
   "outputs": [
    {
     "data": {
      "text/html": [
       "<div>\n",
       "<style scoped>\n",
       "    .dataframe tbody tr th:only-of-type {\n",
       "        vertical-align: middle;\n",
       "    }\n",
       "\n",
       "    .dataframe tbody tr th {\n",
       "        vertical-align: top;\n",
       "    }\n",
       "\n",
       "    .dataframe thead th {\n",
       "        text-align: right;\n",
       "    }\n",
       "</style>\n",
       "<table border=\"1\" class=\"dataframe\">\n",
       "  <thead>\n",
       "    <tr style=\"text-align: right;\">\n",
       "      <th></th>\n",
       "      <th>strength</th>\n",
       "    </tr>\n",
       "  </thead>\n",
       "  <tbody>\n",
       "    <tr>\n",
       "      <td>0</td>\n",
       "      <td>29.89</td>\n",
       "    </tr>\n",
       "    <tr>\n",
       "      <td>1</td>\n",
       "      <td>23.51</td>\n",
       "    </tr>\n",
       "    <tr>\n",
       "      <td>2</td>\n",
       "      <td>29.22</td>\n",
       "    </tr>\n",
       "    <tr>\n",
       "      <td>3</td>\n",
       "      <td>45.85</td>\n",
       "    </tr>\n",
       "    <tr>\n",
       "      <td>4</td>\n",
       "      <td>18.29</td>\n",
       "    </tr>\n",
       "  </tbody>\n",
       "</table>\n",
       "</div>"
      ],
      "text/plain": [
       "   strength\n",
       "0     29.89\n",
       "1     23.51\n",
       "2     29.22\n",
       "3     45.85\n",
       "4     18.29"
      ]
     },
     "execution_count": 56,
     "metadata": {},
     "output_type": "execute_result"
    }
   ],
   "source": [
    "Y.head()"
   ]
  },
  {
   "cell_type": "code",
   "execution_count": 57,
   "metadata": {},
   "outputs": [],
   "source": [
    "from sklearn.model_selection import train_test_split\n",
    "X_train,X_test,Y_train,Y_test=train_test_split(X,Y,test_size=0.2)"
   ]
  },
  {
   "cell_type": "code",
   "execution_count": 1,
   "metadata": {},
   "outputs": [
    {
     "ename": "SyntaxError",
     "evalue": "invalid syntax (<ipython-input-1-c749f602b7ee>, line 2)",
     "output_type": "error",
     "traceback": [
      "\u001b[1;36m  File \u001b[1;32m\"<ipython-input-1-c749f602b7ee>\"\u001b[1;36m, line \u001b[1;32m2\u001b[0m\n\u001b[1;33m    print(X_test.shape)|\u001b[0m\n\u001b[1;37m                        ^\u001b[0m\n\u001b[1;31mSyntaxError\u001b[0m\u001b[1;31m:\u001b[0m invalid syntax\n"
     ]
    }
   ],
   "source": [
    "print(X_train.shape)\n",
    "print(X_test.shape)|\n",
    "print(Y_train.shape)\n",
    "print(Y_test.shape)"
   ]
  },
  {
   "cell_type": "code",
   "execution_count": 103,
   "metadata": {},
   "outputs": [],
   "source": [
    "from sklearn import linear_model\n",
    "regr=linear_model.LinearRegression()"
   ]
  },
  {
   "cell_type": "code",
   "execution_count": 105,
   "metadata": {},
   "outputs": [
    {
     "data": {
      "text/plain": [
       "LinearRegression(copy_X=True, fit_intercept=True, n_jobs=None, normalize=False)"
      ]
     },
     "execution_count": 105,
     "metadata": {},
     "output_type": "execute_result"
    }
   ],
   "source": [
    "#Training\n",
    "regr.fit(X_train,Y_train)"
   ]
  },
  {
   "cell_type": "code",
   "execution_count": 61,
   "metadata": {},
   "outputs": [
    {
     "name": "stdout",
     "output_type": "stream",
     "text": [
      "Coeffiecients [[ 0.11909923  0.10230933  0.08893012 -0.15469711  0.28995351  0.01513966\n",
      "   0.01666665  0.11735766]]\n",
      "Intercept [-16.57789653]\n"
     ]
    }
   ],
   "source": [
    "#The coeficients and intercept is calculated\n",
    "print('Coeffiecients',regr.coef_)\n",
    "print('Intercept',regr.intercept_)"
   ]
  },
  {
   "cell_type": "code",
   "execution_count": 62,
   "metadata": {},
   "outputs": [],
   "source": [
    "#Testing\n",
    "Y_pred=regr.predict(X_test)"
   ]
  },
  {
   "cell_type": "code",
   "execution_count": 63,
   "metadata": {},
   "outputs": [
    {
     "data": {
      "text/plain": [
       "array([[26.20842951],\n",
       "       [23.54885108],\n",
       "       [54.18246819],\n",
       "       [37.60903309],\n",
       "       [59.60718905],\n",
       "       [67.58139799],\n",
       "       [59.62250094],\n",
       "       [24.80418743],\n",
       "       [35.93131748],\n",
       "       [52.23803953],\n",
       "       [34.83647592],\n",
       "       [51.34835032],\n",
       "       [39.41015174],\n",
       "       [50.89645359],\n",
       "       [36.26927347],\n",
       "       [35.10295496],\n",
       "       [56.0180503 ],\n",
       "       [31.36182742],\n",
       "       [25.04922547],\n",
       "       [17.99224877],\n",
       "       [25.24800795],\n",
       "       [48.76785797],\n",
       "       [21.81476202],\n",
       "       [55.52405413],\n",
       "       [34.38757231],\n",
       "       [30.737638  ],\n",
       "       [35.7845281 ],\n",
       "       [21.01551269],\n",
       "       [23.08169174],\n",
       "       [22.34317856],\n",
       "       [45.25250301],\n",
       "       [46.42082781],\n",
       "       [20.31158943],\n",
       "       [23.90083288],\n",
       "       [22.22437775],\n",
       "       [56.92449206],\n",
       "       [51.5184524 ],\n",
       "       [54.0172923 ],\n",
       "       [34.66736188],\n",
       "       [31.25349288],\n",
       "       [22.58471452],\n",
       "       [35.59987807],\n",
       "       [48.60457221],\n",
       "       [31.55471327],\n",
       "       [48.29842731],\n",
       "       [27.33383137],\n",
       "       [13.90682934],\n",
       "       [36.33912377],\n",
       "       [17.94737593],\n",
       "       [20.37092997],\n",
       "       [49.7980941 ],\n",
       "       [37.28370208],\n",
       "       [29.00580307],\n",
       "       [30.52922792],\n",
       "       [22.22611486],\n",
       "       [51.1175651 ],\n",
       "       [23.43650372],\n",
       "       [64.31802492],\n",
       "       [32.95330269],\n",
       "       [37.37425201],\n",
       "       [31.37670332],\n",
       "       [29.14237112],\n",
       "       [44.72993676],\n",
       "       [32.32287112],\n",
       "       [34.08318875],\n",
       "       [24.92250866],\n",
       "       [36.51309587],\n",
       "       [17.98897615],\n",
       "       [53.69755871],\n",
       "       [27.88937194],\n",
       "       [27.65963216],\n",
       "       [17.92521081],\n",
       "       [14.22640613],\n",
       "       [24.43652293],\n",
       "       [33.35011668],\n",
       "       [51.65200488],\n",
       "       [32.79943665],\n",
       "       [31.59824193],\n",
       "       [24.65201989],\n",
       "       [32.7760369 ],\n",
       "       [69.48437882],\n",
       "       [32.12290373],\n",
       "       [49.9818374 ],\n",
       "       [52.96955303],\n",
       "       [24.08289221],\n",
       "       [26.05779894],\n",
       "       [33.35425846],\n",
       "       [25.72589951],\n",
       "       [45.82400384],\n",
       "       [27.46416936],\n",
       "       [30.47800646],\n",
       "       [37.75313274],\n",
       "       [57.26897796],\n",
       "       [37.40656832],\n",
       "       [43.48315946],\n",
       "       [21.00602236],\n",
       "       [54.41772336],\n",
       "       [40.10257614],\n",
       "       [39.17205358],\n",
       "       [40.53886714],\n",
       "       [28.87778994],\n",
       "       [22.66143891],\n",
       "       [36.63170139],\n",
       "       [51.5184524 ],\n",
       "       [60.21050667],\n",
       "       [51.81819309],\n",
       "       [34.51636435],\n",
       "       [39.44191715],\n",
       "       [60.21050667],\n",
       "       [25.57819621],\n",
       "       [47.81300851],\n",
       "       [47.85811494],\n",
       "       [35.3080403 ],\n",
       "       [37.52374854],\n",
       "       [16.51089775],\n",
       "       [35.15974388],\n",
       "       [27.48013221],\n",
       "       [43.98923871],\n",
       "       [30.35876701],\n",
       "       [26.74919426],\n",
       "       [29.44571096],\n",
       "       [35.78839899],\n",
       "       [24.30470751],\n",
       "       [38.43180716],\n",
       "       [28.36552562],\n",
       "       [56.43241988],\n",
       "       [44.04550168],\n",
       "       [34.6404854 ],\n",
       "       [61.44503956],\n",
       "       [31.1327994 ],\n",
       "       [37.43140629],\n",
       "       [61.37649621],\n",
       "       [32.26086918],\n",
       "       [48.43194264],\n",
       "       [34.08978791],\n",
       "       [50.33377422],\n",
       "       [60.88322148],\n",
       "       [33.84907305],\n",
       "       [69.97395879],\n",
       "       [21.09595752],\n",
       "       [35.72619605],\n",
       "       [52.99109328],\n",
       "       [48.45821094],\n",
       "       [47.18217852],\n",
       "       [53.80772109],\n",
       "       [14.69583679],\n",
       "       [25.62959135],\n",
       "       [17.52801224],\n",
       "       [31.57235351],\n",
       "       [15.15859831],\n",
       "       [58.22080427],\n",
       "       [35.4376382 ],\n",
       "       [24.80768951],\n",
       "       [37.67232415],\n",
       "       [63.94743854],\n",
       "       [36.75904979],\n",
       "       [30.35786693],\n",
       "       [34.17565134],\n",
       "       [23.05546613],\n",
       "       [39.14127559],\n",
       "       [27.93803449],\n",
       "       [39.23031297],\n",
       "       [24.321494  ],\n",
       "       [18.55100173],\n",
       "       [32.15587607],\n",
       "       [27.74293211],\n",
       "       [19.23559417],\n",
       "       [24.79549865],\n",
       "       [53.99055046],\n",
       "       [31.4368214 ],\n",
       "       [44.29990471],\n",
       "       [23.95359153],\n",
       "       [22.20002809],\n",
       "       [27.43794485],\n",
       "       [51.50787856],\n",
       "       [25.39193932],\n",
       "       [72.77039342],\n",
       "       [31.75293905],\n",
       "       [32.4097569 ],\n",
       "       [24.93750865],\n",
       "       [29.55495549],\n",
       "       [17.16034774],\n",
       "       [26.42033674],\n",
       "       [21.88484476],\n",
       "       [22.6271393 ],\n",
       "       [35.73124471],\n",
       "       [18.10642584],\n",
       "       [51.18257422],\n",
       "       [29.47674817],\n",
       "       [27.47050725],\n",
       "       [16.48531836],\n",
       "       [76.87791167],\n",
       "       [31.67368938],\n",
       "       [15.48981063],\n",
       "       [42.62643372],\n",
       "       [52.50012238],\n",
       "       [48.26279089],\n",
       "       [19.3220848 ],\n",
       "       [71.56899931],\n",
       "       [21.43616512],\n",
       "       [28.82985478],\n",
       "       [26.89453121],\n",
       "       [60.24520527],\n",
       "       [35.13262546],\n",
       "       [29.25680146],\n",
       "       [17.43029481]])"
      ]
     },
     "execution_count": 63,
     "metadata": {},
     "output_type": "execute_result"
    }
   ],
   "source": [
    "Y_pred"
   ]
  },
  {
   "cell_type": "code",
   "execution_count": 65,
   "metadata": {},
   "outputs": [
    {
     "name": "stdout",
     "output_type": "stream",
     "text": [
      "0.5820946926391921\n",
      "121.27094138858753\n"
     ]
    }
   ],
   "source": [
    "#Evaluation\n",
    "from sklearn.metrics import mean_squared_error, r2_score\n",
    "print(r2_score(Y_test,Y_pred))\n",
    "print(mean_squared_error(Y_test,Y_pred))"
   ]
  },
  {
   "cell_type": "code",
   "execution_count": 67,
   "metadata": {},
   "outputs": [
    {
     "data": {
      "text/plain": [
       "array([[<matplotlib.axes._subplots.AxesSubplot object at 0x00000207AD64ABC8>]],\n",
       "      dtype=object)"
      ]
     },
     "execution_count": 67,
     "metadata": {},
     "output_type": "execute_result"
    },
    {
     "data": {
      "image/png": "[encoded data removed]",
      "text/plain": [
       "<Figure size 432x288 with 1 Axes>"
      ]
     },
     "metadata": {
      "needs_background": "light"
     },
     "output_type": "display_data"
    }
   ],
   "source": [
    "Y_test.hist() # correlation was too low for simple regression and was moderate for multiple regression (58 %)"
   ]
  },
  {
   "cell_type": "code",
   "execution_count": 68,
   "metadata": {},
   "outputs": [
    {
     "data": {
      "text/plain": [
       "array([[<matplotlib.axes._subplots.AxesSubplot object at 0x00000207AD500FC8>]],\n",
       "      dtype=object)"
      ]
     },
     "execution_count": 68,
     "metadata": {},
     "output_type": "execute_result"
    },
    {
     "data": {
      "image/png": "[encoded data removed]",
      "text/plain": [
       "<Figure size 432x288 with 1 Axes>"
      ]
     },
     "metadata": {
      "needs_background": "light"
     },
     "output_type": "display_data"
    }
   ],
   "source": [
    "pd.DataFrame(Y_pred).hist() # Y-pred.hist() is giving errors i dont know why"
   ]
  },
  {
   "cell_type": "code",
   "execution_count": 69,
   "metadata": {},
   "outputs": [
    {
     "data": {
      "text/plain": [
       "array([[<matplotlib.axes._subplots.AxesSubplot object at 0x00000207AD738F08>]],\n",
       "      dtype=object)"
      ]
     },
     "execution_count": 69,
     "metadata": {},
     "output_type": "execute_result"
    },
    {
     "data": {
      "image/png": "[encoded data removed]",
      "text/plain": [
       "<Figure size 432x288 with 1 Axes>"
      ]
     },
     "metadata": {
      "needs_background": "light"
     },
     "output_type": "display_data"
    }
   ],
   "source": [
    "Y_train.hist()"
   ]
  },
  {
   "cell_type": "code",
   "execution_count": 50,
   "metadata": {},
   "outputs": [],
   "source": [
    "import matplotlib.pyplot as plt"
   ]
  },
  {
   "cell_type": "code",
   "execution_count": 70,
   "metadata": {},
   "outputs": [
    {
     "data": {
      "text/plain": [
       "<matplotlib.collections.PathCollection at 0x207ad8940c8>"
      ]
     },
     "execution_count": 70,
     "metadata": {},
     "output_type": "execute_result"
    },
    {
     "data": {
      "image/png": "[encoded data removed]",
      "text/plain": [
       "<Figure size 432x288 with 1 Axes>"
      ]
     },
     "metadata": {
      "needs_background": "light"
     },
     "output_type": "display_data"
    }
   ],
   "source": [
    "plt.scatter(Y_test, Y_pred, color='black')"
   ]
  },
  {
   "cell_type": "code",
   "execution_count": null,
   "metadata": {},
   "outputs": [],
   "source": [
    "# scatter is too high, simple regrssion problem doesnot suit to this problem"
   ]
  },
  {
   "cell_type": "code",
   "execution_count": 71,
   "metadata": {},
   "outputs": [
    {
     "data": {
      "text/html": [
       "<div>\n",
       "<style scoped>\n",
       "    .dataframe tbody tr th:only-of-type {\n",
       "        vertical-align: middle;\n",
       "    }\n",
       "\n",
       "    .dataframe tbody tr th {\n",
       "        vertical-align: top;\n",
       "    }\n",
       "\n",
       "    .dataframe thead th {\n",
       "        text-align: right;\n",
       "    }\n",
       "</style>\n",
       "<table border=\"1\" class=\"dataframe\">\n",
       "  <thead>\n",
       "    <tr style=\"text-align: right;\">\n",
       "      <th></th>\n",
       "      <th>cement</th>\n",
       "      <th>slag</th>\n",
       "      <th>ash</th>\n",
       "      <th>water</th>\n",
       "      <th>superplastic</th>\n",
       "      <th>coarseagg</th>\n",
       "      <th>fineagg</th>\n",
       "      <th>age</th>\n",
       "      <th>strength</th>\n",
       "    </tr>\n",
       "  </thead>\n",
       "  <tbody>\n",
       "    <tr>\n",
       "      <td>cement</td>\n",
       "      <td>1.000000</td>\n",
       "      <td>-0.275216</td>\n",
       "      <td>-0.397467</td>\n",
       "      <td>-0.081587</td>\n",
       "      <td>0.092386</td>\n",
       "      <td>-0.109349</td>\n",
       "      <td>-0.222718</td>\n",
       "      <td>0.081946</td>\n",
       "      <td>0.497832</td>\n",
       "    </tr>\n",
       "    <tr>\n",
       "      <td>slag</td>\n",
       "      <td>-0.275216</td>\n",
       "      <td>1.000000</td>\n",
       "      <td>-0.323580</td>\n",
       "      <td>0.107252</td>\n",
       "      <td>0.043270</td>\n",
       "      <td>-0.283999</td>\n",
       "      <td>-0.281603</td>\n",
       "      <td>-0.044246</td>\n",
       "      <td>0.134829</td>\n",
       "    </tr>\n",
       "    <tr>\n",
       "      <td>ash</td>\n",
       "      <td>-0.397467</td>\n",
       "      <td>-0.323580</td>\n",
       "      <td>1.000000</td>\n",
       "      <td>-0.256984</td>\n",
       "      <td>0.377503</td>\n",
       "      <td>-0.009961</td>\n",
       "      <td>0.079108</td>\n",
       "      <td>-0.154371</td>\n",
       "      <td>-0.105755</td>\n",
       "    </tr>\n",
       "    <tr>\n",
       "      <td>water</td>\n",
       "      <td>-0.081587</td>\n",
       "      <td>0.107252</td>\n",
       "      <td>-0.256984</td>\n",
       "      <td>1.000000</td>\n",
       "      <td>-0.657533</td>\n",
       "      <td>-0.182294</td>\n",
       "      <td>-0.450661</td>\n",
       "      <td>0.277618</td>\n",
       "      <td>-0.289633</td>\n",
       "    </tr>\n",
       "    <tr>\n",
       "      <td>superplastic</td>\n",
       "      <td>0.092386</td>\n",
       "      <td>0.043270</td>\n",
       "      <td>0.377503</td>\n",
       "      <td>-0.657533</td>\n",
       "      <td>1.000000</td>\n",
       "      <td>-0.265999</td>\n",
       "      <td>0.222691</td>\n",
       "      <td>-0.192700</td>\n",
       "      <td>0.366079</td>\n",
       "    </tr>\n",
       "    <tr>\n",
       "      <td>coarseagg</td>\n",
       "      <td>-0.109349</td>\n",
       "      <td>-0.283999</td>\n",
       "      <td>-0.009961</td>\n",
       "      <td>-0.182294</td>\n",
       "      <td>-0.265999</td>\n",
       "      <td>1.000000</td>\n",
       "      <td>-0.178481</td>\n",
       "      <td>-0.003016</td>\n",
       "      <td>-0.164935</td>\n",
       "    </tr>\n",
       "    <tr>\n",
       "      <td>fineagg</td>\n",
       "      <td>-0.222718</td>\n",
       "      <td>-0.281603</td>\n",
       "      <td>0.079108</td>\n",
       "      <td>-0.450661</td>\n",
       "      <td>0.222691</td>\n",
       "      <td>-0.178481</td>\n",
       "      <td>1.000000</td>\n",
       "      <td>-0.156095</td>\n",
       "      <td>-0.167241</td>\n",
       "    </tr>\n",
       "    <tr>\n",
       "      <td>age</td>\n",
       "      <td>0.081946</td>\n",
       "      <td>-0.044246</td>\n",
       "      <td>-0.154371</td>\n",
       "      <td>0.277618</td>\n",
       "      <td>-0.192700</td>\n",
       "      <td>-0.003016</td>\n",
       "      <td>-0.156095</td>\n",
       "      <td>1.000000</td>\n",
       "      <td>0.328873</td>\n",
       "    </tr>\n",
       "    <tr>\n",
       "      <td>strength</td>\n",
       "      <td>0.497832</td>\n",
       "      <td>0.134829</td>\n",
       "      <td>-0.105755</td>\n",
       "      <td>-0.289633</td>\n",
       "      <td>0.366079</td>\n",
       "      <td>-0.164935</td>\n",
       "      <td>-0.167241</td>\n",
       "      <td>0.328873</td>\n",
       "      <td>1.000000</td>\n",
       "    </tr>\n",
       "  </tbody>\n",
       "</table>\n",
       "</div>"
      ],
      "text/plain": [
       "                cement      slag       ash     water  superplastic  coarseagg  \\\n",
       "cement        1.000000 -0.275216 -0.397467 -0.081587      0.092386  -0.109349   \n",
       "slag         -0.275216  1.000000 -0.323580  0.107252      0.043270  -0.283999   \n",
       "ash          -0.397467 -0.323580  1.000000 -0.256984      0.377503  -0.009961   \n",
       "water        -0.081587  0.107252 -0.256984  1.000000     -0.657533  -0.182294   \n",
       "superplastic  0.092386  0.043270  0.377503 -0.657533      1.000000  -0.265999   \n",
       "coarseagg    -0.109349 -0.283999 -0.009961 -0.182294     -0.265999   1.000000   \n",
       "fineagg      -0.222718 -0.281603  0.079108 -0.450661      0.222691  -0.178481   \n",
       "age           0.081946 -0.044246 -0.154371  0.277618     -0.192700  -0.003016   \n",
       "strength      0.497832  0.134829 -0.105755 -0.289633      0.366079  -0.164935   \n",
       "\n",
       "               fineagg       age  strength  \n",
       "cement       -0.222718  0.081946  0.497832  \n",
       "slag         -0.281603 -0.044246  0.134829  \n",
       "ash           0.079108 -0.154371 -0.105755  \n",
       "water        -0.450661  0.277618 -0.289633  \n",
       "superplastic  0.222691 -0.192700  0.366079  \n",
       "coarseagg    -0.178481 -0.003016 -0.164935  \n",
       "fineagg       1.000000 -0.156095 -0.167241  \n",
       "age          -0.156095  1.000000  0.328873  \n",
       "strength     -0.167241  0.328873  1.000000  "
      ]
     },
     "execution_count": 71,
     "metadata": {},
     "output_type": "execute_result"
    }
   ],
   "source": [
    "cement.corr()"
   ]
  },
  {
   "cell_type": "code",
   "execution_count": 77,
   "metadata": {},
   "outputs": [
    {
     "name": "stdout",
     "output_type": "stream",
     "text": [
      "             0         1         2         3         4         5         6  \\\n",
      "0     0.111269  0.166942  0.000000  0.160249  0.000000  0.765257  0.589416   \n",
      "1     0.123388  0.030829  0.090806  0.115645  0.007890  0.789569  0.581657   \n",
      "2     0.188137  0.000000  0.072019  0.141027  0.004139  0.720111  0.648093   \n",
      "3     0.220434  0.094472  0.000000  0.188944  0.000000  0.772349  0.555229   \n",
      "4     0.119480  0.141555  0.000000  0.149196  0.007024  0.808423  0.537739   \n",
      "...        ...       ...       ...       ...       ...       ...       ...   \n",
      "1025  0.105072  0.000000  0.129200  0.140096  0.007783  0.747959  0.626542   \n",
      "1026  0.392784  0.000000  0.000000  0.104831  0.020848  0.629947  0.660701   \n",
      "1027  0.227165  0.095337  0.074215  0.147608  0.007315  0.715110  0.631444   \n",
      "1028  0.273482  0.030387  0.000000  0.182321  0.000000  0.745279  0.535769   \n",
      "1029  0.385151  0.000000  0.000000  0.123391  0.000000  0.802397  0.437217   \n",
      "\n",
      "             7         8  \n",
      "0     0.022049  0.023537  \n",
      "1     0.010228  0.017175  \n",
      "2     0.021071  0.021989  \n",
      "3     0.023204  0.037996  \n",
      "4     0.021611  0.014117  \n",
      "...        ...       ...  \n",
      "1025  0.021793  0.010344  \n",
      "1026  0.002218  0.030533  \n",
      "1027  0.023012  0.036392  \n",
      "1028  0.215907  0.044029  \n",
      "1029  0.004993  0.037524  \n",
      "\n",
      "[1030 rows x 9 columns]\n"
     ]
    }
   ],
   "source": [
    "from sklearn.preprocessing import Normalizer\n",
    "cement_n=Normalizer().fit_transform(cement)\n",
    "cement_n=pd.DataFrame(cement_n)\n",
    "print(cement_n)"
   ]
  },
  {
   "cell_type": "code",
   "execution_count": 86,
   "metadata": {},
   "outputs": [
    {
     "name": "stdout",
     "output_type": "stream",
     "text": [
      "[1.4453543572187846, 1.8730637605506157, 2.2895464593076467, 1.2036788506529401]\n"
     ]
    }
   ],
   "source": [
    "#Multi-Collinearity\n",
    "import numpy as np\n",
    "X = np.array(X)\n",
    "from statsmodels.stats.outliers_influence import variance_inflation_factor\n",
    "\n",
    "vif = pd.DataFrame()\n",
    "vif = [variance_inflation_factor(X, i) for i in range(X.shape[1])]\n",
    "print(vif)\n",
    "X = pd.DataFrame(X)"
   ]
  },
  {
   "cell_type": "code",
   "execution_count": 89,
   "metadata": {},
   "outputs": [],
   "source": [
    "X = X.iloc[:, [1,2]]"
   ]
  },
  {
   "cell_type": "code",
   "execution_count": 91,
   "metadata": {},
   "outputs": [
    {
     "data": {
      "text/html": [
       "<div>\n",
       "<style scoped>\n",
       "    .dataframe tbody tr th:only-of-type {\n",
       "        vertical-align: middle;\n",
       "    }\n",
       "\n",
       "    .dataframe tbody tr th {\n",
       "        vertical-align: top;\n",
       "    }\n",
       "\n",
       "    .dataframe thead th {\n",
       "        text-align: right;\n",
       "    }\n",
       "</style>\n",
       "<table border=\"1\" class=\"dataframe\">\n",
       "  <thead>\n",
       "    <tr style=\"text-align: right;\">\n",
       "      <th></th>\n",
       "      <th>1</th>\n",
       "      <th>2</th>\n",
       "    </tr>\n",
       "  </thead>\n",
       "  <tbody>\n",
       "    <tr>\n",
       "      <td>0</td>\n",
       "      <td>0.0</td>\n",
       "      <td>0.0</td>\n",
       "    </tr>\n",
       "    <tr>\n",
       "      <td>1</td>\n",
       "      <td>124.3</td>\n",
       "      <td>10.8</td>\n",
       "    </tr>\n",
       "    <tr>\n",
       "      <td>2</td>\n",
       "      <td>95.7</td>\n",
       "      <td>5.5</td>\n",
       "    </tr>\n",
       "    <tr>\n",
       "      <td>3</td>\n",
       "      <td>0.0</td>\n",
       "      <td>0.0</td>\n",
       "    </tr>\n",
       "    <tr>\n",
       "      <td>4</td>\n",
       "      <td>0.0</td>\n",
       "      <td>9.1</td>\n",
       "    </tr>\n",
       "  </tbody>\n",
       "</table>\n",
       "</div>"
      ],
      "text/plain": [
       "       1     2\n",
       "0    0.0   0.0\n",
       "1  124.3  10.8\n",
       "2   95.7   5.5\n",
       "3    0.0   0.0\n",
       "4    0.0   9.1"
      ]
     },
     "execution_count": 91,
     "metadata": {},
     "output_type": "execute_result"
    }
   ],
   "source": [
    "X.head()"
   ]
  },
  {
   "cell_type": "code",
   "execution_count": 94,
   "metadata": {},
   "outputs": [
    {
     "name": "stderr",
     "output_type": "stream",
     "text": [
      "C:\\Users\\HP\\Anaconda3\\lib\\site-packages\\sklearn\\utils\\validation.py:724: DataConversionWarning: A column-vector y was passed when a 1d array was expected. Please change the shape of y to (n_samples, ), for example using ravel().\n",
      "  y = column_or_1d(y, warn=True)\n"
     ]
    },
    {
     "name": "stdout",
     "output_type": "stream",
     "text": [
      "[ True  True]\n",
      "[1 1]\n"
     ]
    }
   ],
   "source": [
    "#Feature Selection \n",
    "from sklearn.feature_selection import RFE\n",
    "\n",
    "logreg = linear_model.LinearRegression()\n",
    "rfe = RFE(logreg, 6)\n",
    "rfe = rfe.fit(X, Y)\n",
    "\n",
    "print(rfe.support_)\n",
    "print(rfe.ranking_)"
   ]
  },
  {
   "cell_type": "code",
   "execution_count": 95,
   "metadata": {},
   "outputs": [],
   "source": [
    "d = rfe.support_\n",
    "\n",
    "g = X.columns\n",
    "\n",
    "a = g[d]\n",
    "\n",
    "X_f = X[a]"
   ]
  },
  {
   "cell_type": "code",
   "execution_count": 96,
   "metadata": {},
   "outputs": [
    {
     "data": {
      "text/html": [
       "<div>\n",
       "<style scoped>\n",
       "    .dataframe tbody tr th:only-of-type {\n",
       "        vertical-align: middle;\n",
       "    }\n",
       "\n",
       "    .dataframe tbody tr th {\n",
       "        vertical-align: top;\n",
       "    }\n",
       "\n",
       "    .dataframe thead th {\n",
       "        text-align: right;\n",
       "    }\n",
       "</style>\n",
       "<table border=\"1\" class=\"dataframe\">\n",
       "  <thead>\n",
       "    <tr style=\"text-align: right;\">\n",
       "      <th></th>\n",
       "      <th>1</th>\n",
       "      <th>2</th>\n",
       "    </tr>\n",
       "  </thead>\n",
       "  <tbody>\n",
       "    <tr>\n",
       "      <td>0</td>\n",
       "      <td>0.0</td>\n",
       "      <td>0.0</td>\n",
       "    </tr>\n",
       "    <tr>\n",
       "      <td>1</td>\n",
       "      <td>124.3</td>\n",
       "      <td>10.8</td>\n",
       "    </tr>\n",
       "    <tr>\n",
       "      <td>2</td>\n",
       "      <td>95.7</td>\n",
       "      <td>5.5</td>\n",
       "    </tr>\n",
       "    <tr>\n",
       "      <td>3</td>\n",
       "      <td>0.0</td>\n",
       "      <td>0.0</td>\n",
       "    </tr>\n",
       "    <tr>\n",
       "      <td>4</td>\n",
       "      <td>0.0</td>\n",
       "      <td>9.1</td>\n",
       "    </tr>\n",
       "  </tbody>\n",
       "</table>\n",
       "</div>"
      ],
      "text/plain": [
       "       1     2\n",
       "0    0.0   0.0\n",
       "1  124.3  10.8\n",
       "2   95.7   5.5\n",
       "3    0.0   0.0\n",
       "4    0.0   9.1"
      ]
     },
     "execution_count": 96,
     "metadata": {},
     "output_type": "execute_result"
    }
   ],
   "source": [
    "X_f.head()"
   ]
  },
  {
   "cell_type": "code",
   "execution_count": 98,
   "metadata": {},
   "outputs": [
    {
     "data": {
      "text/html": [
       "<table class=\"simpletable\">\n",
       "<caption>OLS Regression Results</caption>\n",
       "<tr>\n",
       "  <th>Dep. Variable:</th>        <td>strength</td>     <th>  R-squared (uncentered):</th>      <td>   0.582</td> \n",
       "</tr>\n",
       "<tr>\n",
       "  <th>Model:</th>                   <td>OLS</td>       <th>  Adj. R-squared (uncentered):</th> <td>   0.581</td> \n",
       "</tr>\n",
       "<tr>\n",
       "  <th>Method:</th>             <td>Least Squares</td>  <th>  F-statistic:       </th>          <td>   715.2</td> \n",
       "</tr>\n",
       "<tr>\n",
       "  <th>Date:</th>             <td>Sun, 05 Apr 2020</td> <th>  Prob (F-statistic):</th>          <td>2.31e-195</td>\n",
       "</tr>\n",
       "<tr>\n",
       "  <th>Time:</th>                 <td>19:02:14</td>     <th>  Log-Likelihood:    </th>          <td> -4799.5</td> \n",
       "</tr>\n",
       "<tr>\n",
       "  <th>No. Observations:</th>      <td>  1030</td>      <th>  AIC:               </th>          <td>   9603.</td> \n",
       "</tr>\n",
       "<tr>\n",
       "  <th>Df Residuals:</th>          <td>  1028</td>      <th>  BIC:               </th>          <td>   9613.</td> \n",
       "</tr>\n",
       "<tr>\n",
       "  <th>Df Model:</th>              <td>     2</td>      <th>                     </th>              <td> </td>    \n",
       "</tr>\n",
       "<tr>\n",
       "  <th>Covariance Type:</th>      <td>nonrobust</td>    <th>                     </th>              <td> </td>    \n",
       "</tr>\n",
       "</table>\n",
       "<table class=\"simpletable\">\n",
       "<tr>\n",
       "  <td></td>     <th>coef</th>     <th>std err</th>      <th>t</th>      <th>P>|t|</th>  <th>[0.025</th>    <th>0.975]</th>  \n",
       "</tr>\n",
       "<tr>\n",
       "  <th>1</th> <td>    0.0387</td> <td>    0.013</td> <td>    3.041</td> <td> 0.002</td> <td>    0.014</td> <td>    0.064</td>\n",
       "</tr>\n",
       "<tr>\n",
       "  <th>2</th> <td>    3.2384</td> <td>    0.124</td> <td>   26.116</td> <td> 0.000</td> <td>    2.995</td> <td>    3.482</td>\n",
       "</tr>\n",
       "</table>\n",
       "<table class=\"simpletable\">\n",
       "<tr>\n",
       "  <th>Omnibus:</th>       <td> 7.172</td> <th>  Durbin-Watson:     </th> <td>   1.450</td>\n",
       "</tr>\n",
       "<tr>\n",
       "  <th>Prob(Omnibus):</th> <td> 0.028</td> <th>  Jarque-Bera (JB):  </th> <td>   7.076</td>\n",
       "</tr>\n",
       "<tr>\n",
       "  <th>Skew:</th>          <td>-0.196</td> <th>  Prob(JB):          </th> <td>  0.0291</td>\n",
       "</tr>\n",
       "<tr>\n",
       "  <th>Kurtosis:</th>      <td> 3.103</td> <th>  Cond. No.          </th> <td>    13.1</td>\n",
       "</tr>\n",
       "</table><br/><br/>Warnings:<br/>[1] Standard Errors assume that the covariance matrix of the errors is correctly specified."
      ],
      "text/plain": [
       "<class 'statsmodels.iolib.summary.Summary'>\n",
       "\"\"\"\n",
       "                                 OLS Regression Results                                \n",
       "=======================================================================================\n",
       "Dep. Variable:               strength   R-squared (uncentered):                   0.582\n",
       "Model:                            OLS   Adj. R-squared (uncentered):              0.581\n",
       "Method:                 Least Squares   F-statistic:                              715.2\n",
       "Date:                Sun, 05 Apr 2020   Prob (F-statistic):                   2.31e-195\n",
       "Time:                        19:02:14   Log-Likelihood:                         -4799.5\n",
       "No. Observations:                1030   AIC:                                      9603.\n",
       "Df Residuals:                    1028   BIC:                                      9613.\n",
       "Df Model:                           2                                                  \n",
       "Covariance Type:            nonrobust                                                  \n",
       "==============================================================================\n",
       "                 coef    std err          t      P>|t|      [0.025      0.975]\n",
       "------------------------------------------------------------------------------\n",
       "1              0.0387      0.013      3.041      0.002       0.014       0.064\n",
       "2              3.2384      0.124     26.116      0.000       2.995       3.482\n",
       "==============================================================================\n",
       "Omnibus:                        7.172   Durbin-Watson:                   1.450\n",
       "Prob(Omnibus):                  0.028   Jarque-Bera (JB):                7.076\n",
       "Skew:                          -0.196   Prob(JB):                       0.0291\n",
       "Kurtosis:                       3.103   Cond. No.                         13.1\n",
       "==============================================================================\n",
       "\n",
       "Warnings:\n",
       "[1] Standard Errors assume that the covariance matrix of the errors is correctly specified.\n",
       "\"\"\""
      ]
     },
     "execution_count": 98,
     "metadata": {},
     "output_type": "execute_result"
    }
   ],
   "source": [
    "import statsmodels.api as sm\n",
    "results_1 = sm.OLS(Y,X).fit()\n",
    "results_1.summary()"
   ]
  },
  {
   "cell_type": "code",
   "execution_count": 99,
   "metadata": {},
   "outputs": [],
   "source": [
    "#Logistics Regresssion : Start"
   ]
  },
  {
   "cell_type": "code",
   "execution_count": null,
   "metadata": {},
   "outputs": [],
   "source": []
  }
 ],
 "metadata": {
  "kernelspec": {
   "display_name": "Python 3",
   "language": "python",
   "name": "python3"
  },
  "language_info": {
   "codemirror_mode": {
    "name": "ipython",
    "version": 3
   },
   "file_extension": ".py",
   "mimetype": "text/x-python",
   "name": "python",
   "nbconvert_exporter": "python",
   "pygments_lexer": "ipython3",
   "version": "3.7.4"
  }
 },
 "nbformat": 4,
 "nbformat_minor": 4
}

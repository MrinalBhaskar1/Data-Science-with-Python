{
 "cells": [
  {
   "cell_type": "code",
   "execution_count": 46,
   "metadata": {},
   "outputs": [],
   "source": [
    "import numpy as np\n",
    "import pandas as pd"
   ]
  },
  {
   "cell_type": "code",
   "execution_count": null,
   "metadata": {},
   "outputs": [],
   "source": [
    "a=np.array([1,2,3]) , b=np.array([1,2,3],[4,5,6])\n",
    "a.shape, a.size, a.dtype \n",
    "np.zeroes(1), np.eye(5)\n",
    "\n",
    "np.random.rand(8,8)\n",
    "np.random.randn(8,8)#normally distributed\n",
    "\n",
    "c=np.random.rand(1000) # b/w 0 and 1  pd.Series(d).hist()\n",
    "d=np.random.randn(1000)               pd.Series(d).hist()\n",
    "e=np.random.randint(40,size=(8,8))\n",
    "\n",
    "e.shape,e.T,e[3],e[3,2]=999,e[1:3,3]\n",
    "f=e.reshape(64),f=e.reshape(4,4,4)\n",
    "\n",
    "np.add(g,50), np.subtract(g,1), np.multiply(g,5), np.power(g,2), \n",
    "np.add(g,e), np.multiply(g,e), np.divide(g,e), no subtract\n",
    "\n",
    "np.mean(g),g.mean()\n",
    "np.mean(g,axis=0), g.mean(axis=0)\n",
    "np.mean(g,axis=1),g.mean(axis=1)\n",
    "\n",
    "np.max(g),g.max()\n",
    "np.max(g,axis=0),g.max(axis=0)\n",
    "np.max(g,axis=1),g.max(axis=1)\n",
    "\n",
    "np.sum(),g.sum()\n",
    "np.sum(g,axis=0),g.sum(axis=0)\n",
    "np.sum(g,axis=1),g.sum(axis=1)"
   ]
  },
  {
   "cell_type": "code",
   "execution_count": 6,
   "metadata": {},
   "outputs": [],
   "source": [
    "a=np.array([1,2,3])"
   ]
  },
  {
   "cell_type": "code",
   "execution_count": 7,
   "metadata": {},
   "outputs": [
    {
     "data": {
      "text/plain": [
       "array([1, 2, 3])"
      ]
     },
     "execution_count": 7,
     "metadata": {},
     "output_type": "execute_result"
    }
   ],
   "source": [
    "a"
   ]
  },
  {
   "cell_type": "code",
   "execution_count": 8,
   "metadata": {},
   "outputs": [
    {
     "data": {
      "text/plain": [
       "(3,)"
      ]
     },
     "execution_count": 8,
     "metadata": {},
     "output_type": "execute_result"
    }
   ],
   "source": [
    "a.shape"
   ]
  },
  {
   "cell_type": "code",
   "execution_count": 11,
   "metadata": {},
   "outputs": [],
   "source": [
    "b=np.array([(1,2,3),(4,5,6)])"
   ]
  },
  {
   "cell_type": "code",
   "execution_count": 12,
   "metadata": {},
   "outputs": [
    {
     "data": {
      "text/plain": [
       "(2, 3)"
      ]
     },
     "execution_count": 12,
     "metadata": {},
     "output_type": "execute_result"
    }
   ],
   "source": [
    "b.shape"
   ]
  },
  {
   "cell_type": "code",
   "execution_count": 14,
   "metadata": {},
   "outputs": [],
   "source": [
    "c=np.random.rand(8,8)"
   ]
  },
  {
   "cell_type": "code",
   "execution_count": 15,
   "metadata": {},
   "outputs": [
    {
     "data": {
      "text/plain": [
       "(8, 8)"
      ]
     },
     "execution_count": 15,
     "metadata": {},
     "output_type": "execute_result"
    }
   ],
   "source": [
    "c.shape"
   ]
  },
  {
   "cell_type": "code",
   "execution_count": 20,
   "metadata": {},
   "outputs": [
    {
     "data": {
      "text/plain": [
       "64"
      ]
     },
     "execution_count": 20,
     "metadata": {},
     "output_type": "execute_result"
    }
   ],
   "source": [
    "c.size"
   ]
  },
  {
   "cell_type": "code",
   "execution_count": 31,
   "metadata": {},
   "outputs": [],
   "source": [
    "d=c.reshape(4,4,4) #it will reshape my matrix into 4x4x4 matrix. d=c.reshape(4,4,1) will produce errors"
   ]
  },
  {
   "cell_type": "code",
   "execution_count": 26,
   "metadata": {},
   "outputs": [
    {
     "data": {
      "text/plain": [
       "(4, 4, 4)"
      ]
     },
     "execution_count": 26,
     "metadata": {},
     "output_type": "execute_result"
    }
   ],
   "source": [
    "d.shape"
   ]
  },
  {
   "cell_type": "code",
   "execution_count": 27,
   "metadata": {},
   "outputs": [
    {
     "data": {
      "text/plain": [
       "dtype('float64')"
      ]
     },
     "execution_count": 27,
     "metadata": {},
     "output_type": "execute_result"
    }
   ],
   "source": [
    "d.dtype"
   ]
  },
  {
   "cell_type": "code",
   "execution_count": 30,
   "metadata": {},
   "outputs": [
    {
     "data": {
      "text/plain": [
       "array([[[0.89147387, 0.31297952, 0.4738998 , 0.26608053, 0.31331693,\n",
       "         0.17467136, 0.29693882, 0.98036135],\n",
       "        [0.13928328, 0.24876529, 0.73403686, 0.37820571, 0.53633062,\n",
       "         0.37949333, 0.09751986, 0.64797995],\n",
       "        [0.99180265, 0.96742109, 0.48555423, 0.84077893, 0.93709591,\n",
       "         0.0183644 , 0.635337  , 0.95508505],\n",
       "        [0.73985004, 0.33182885, 0.0436805 , 0.91647695, 0.62245935,\n",
       "         0.89082533, 0.54173468, 0.27271218]],\n",
       "\n",
       "       [[0.92039263, 0.20279489, 0.39471023, 0.67317129, 0.74881989,\n",
       "         0.11467447, 0.10767327, 0.53862335],\n",
       "        [0.89517735, 0.2071202 , 0.62681521, 0.9485131 , 0.22472997,\n",
       "         0.41015619, 0.07386787, 0.87724504],\n",
       "        [0.33526457, 0.78380062, 0.53372875, 0.12794663, 0.72181619,\n",
       "         0.16325258, 0.82958165, 0.49551213],\n",
       "        [0.63293396, 0.92543183, 0.22017144, 0.19547335, 0.09532536,\n",
       "         0.33080116, 0.5966485 , 0.11709174]]])"
      ]
     },
     "execution_count": 30,
     "metadata": {},
     "output_type": "execute_result"
    }
   ],
   "source": [
    "c.reshape(2,4,8)"
   ]
  },
  {
   "cell_type": "code",
   "execution_count": 32,
   "metadata": {},
   "outputs": [
    {
     "data": {
      "text/plain": [
       "(4, 4, 4)"
      ]
     },
     "execution_count": 32,
     "metadata": {},
     "output_type": "execute_result"
    }
   ],
   "source": [
    "d.shape"
   ]
  },
  {
   "cell_type": "code",
   "execution_count": 33,
   "metadata": {},
   "outputs": [
    {
     "data": {
      "text/plain": [
       "dtype('float64')"
      ]
     },
     "execution_count": 33,
     "metadata": {},
     "output_type": "execute_result"
    }
   ],
   "source": [
    "d.dtype"
   ]
  },
  {
   "cell_type": "code",
   "execution_count": 36,
   "metadata": {},
   "outputs": [],
   "source": [
    "np.zeros(1)"
   ]
  },
  {
   "cell_type": "code",
   "execution_count": 38,
   "metadata": {},
   "outputs": [
    {
     "data": {
      "text/plain": [
       "array([[1., 0., 0., 0., 0.],\n",
       "       [0., 1., 0., 0., 0.],\n",
       "       [0., 0., 1., 0., 0.],\n",
       "       [0., 0., 0., 1., 0.],\n",
       "       [0., 0., 0., 0., 1.]])"
      ]
     },
     "execution_count": 38,
     "metadata": {},
     "output_type": "execute_result"
    }
   ],
   "source": [
    "np.eye(5)"
   ]
  },
  {
   "cell_type": "code",
   "execution_count": 39,
   "metadata": {},
   "outputs": [
    {
     "data": {
      "text/plain": [
       "array([[ 2.48110691e-01, -7.08685135e-01,  1.48599767e+00,\n",
       "        -3.80570359e-01, -1.99886086e+00,  8.09812443e-01,\n",
       "        -7.05355180e-01,  1.04235472e+00],\n",
       "       [ 2.33202353e-03,  6.85884175e-01, -3.62267823e-01,\n",
       "        -4.58038852e-02,  5.32282217e-01,  5.86432564e-01,\n",
       "         7.91387133e-01,  1.64468253e+00],\n",
       "       [-4.42281550e-01, -1.50056014e+00,  1.66961705e+00,\n",
       "        -7.09076805e-01, -4.28116814e-01,  8.45203724e-01,\n",
       "         3.23245321e-01,  6.19167963e-01],\n",
       "       [ 3.94714545e-01,  1.59174628e+00,  7.50234847e-01,\n",
       "         1.45816946e+00, -7.23445558e-01, -4.71542026e-01,\n",
       "        -8.01432853e-01, -5.16785116e-01],\n",
       "       [ 1.49008562e+00, -8.53081350e-01, -9.26843208e-01,\n",
       "        -2.56035724e-01,  1.18102677e+00, -9.62005069e-01,\n",
       "        -1.62536064e+00,  2.57088683e-01],\n",
       "       [ 1.30184018e+00,  1.03878114e+00, -7.31936385e-01,\n",
       "         1.15705585e+00, -5.81065583e-01,  7.58423931e-02,\n",
       "        -1.14003028e+00, -7.71195545e-01],\n",
       "       [-2.74238127e-01, -4.02713705e-01, -2.95340818e-01,\n",
       "        -1.68487787e+00, -5.17896059e-01, -6.17695234e-01,\n",
       "        -1.19045063e-01, -5.65174280e-01],\n",
       "       [-9.39039455e-01,  1.24846742e+00,  3.06644362e-03,\n",
       "        -5.68735486e-01,  7.28010357e-01,  2.39684902e+00,\n",
       "         2.05954094e-01,  8.25123727e-01]])"
      ]
     },
     "execution_count": 39,
     "metadata": {},
     "output_type": "execute_result"
    }
   ],
   "source": [
    "np.random.randn(8,8)"
   ]
  },
  {
   "cell_type": "code",
   "execution_count": 59,
   "metadata": {},
   "outputs": [
    {
     "data": {
      "text/plain": [
       "<matplotlib.axes._subplots.AxesSubplot at 0x2060591e208>"
      ]
     },
     "execution_count": 59,
     "metadata": {},
     "output_type": "execute_result"
    },
    {
     "data": {
      "image/png": "[encoded data removed]",
      "text/plain": [
       "<Figure size 432x288 with 1 Axes>"
      ]
     },
     "metadata": {
      "needs_background": "light"
     },
     "output_type": "display_data"
    }
   ],
   "source": [
    "d=np.random.rand(1000)\n",
    "pd.Series(d).hist() #learning diff b/w rand and randn.\n",
    "#rand is between 0 and 1"
   ]
  },
  {
   "cell_type": "code",
   "execution_count": 60,
   "metadata": {},
   "outputs": [
    {
     "data": {
      "text/plain": [
       "<matplotlib.axes._subplots.AxesSubplot at 0x206059d0f48>"
      ]
     },
     "execution_count": 60,
     "metadata": {},
     "output_type": "execute_result"
    },
    {
     "data": {
      "image/png": "[encoded data removed]",
      "text/plain": [
       "<Figure size 432x288 with 1 Axes>"
      ]
     },
     "metadata": {
      "needs_background": "light"
     },
     "output_type": "display_data"
    }
   ],
   "source": [
    "d=np.random.randn(1000) #Normaly distributed,\n",
    "pd.Series(d).hist()\n",
    "#randn is normally distributed"
   ]
  },
  {
   "cell_type": "code",
   "execution_count": 63,
   "metadata": {},
   "outputs": [],
   "source": [
    "e=np.random.randint(40,size=(8,8)) #creating array of value in the range of 0 to 40 and in 8X8 data set"
   ]
  },
  {
   "cell_type": "code",
   "execution_count": 64,
   "metadata": {},
   "outputs": [
    {
     "data": {
      "text/plain": [
       "array([[29, 24,  0, 27, 13, 16, 21, 26],\n",
       "       [14,  8, 18, 38, 18, 26,  5, 27],\n",
       "       [31,  9, 23, 10,  8, 21, 18, 16],\n",
       "       [11, 31, 35, 27, 32, 34, 23,  2],\n",
       "       [19, 34,  6,  3, 23, 29, 15, 35],\n",
       "       [23,  3, 34, 39, 28, 22, 29, 26],\n",
       "       [37, 17, 11,  1,  0, 18,  3, 10],\n",
       "       [29, 29, 30, 23, 29, 32, 21,  4]])"
      ]
     },
     "execution_count": 64,
     "metadata": {},
     "output_type": "execute_result"
    }
   ],
   "source": [
    "e"
   ]
  },
  {
   "cell_type": "code",
   "execution_count": 65,
   "metadata": {},
   "outputs": [
    {
     "data": {
      "text/plain": [
       "(8, 8)"
      ]
     },
     "execution_count": 65,
     "metadata": {},
     "output_type": "execute_result"
    }
   ],
   "source": [
    "e.shape"
   ]
  },
  {
   "cell_type": "code",
   "execution_count": 66,
   "metadata": {},
   "outputs": [],
   "source": [
    "f=e.reshape(64)"
   ]
  },
  {
   "cell_type": "code",
   "execution_count": 67,
   "metadata": {},
   "outputs": [
    {
     "data": {
      "text/plain": [
       "array([29, 24,  0, 27, 13, 16, 21, 26, 14,  8, 18, 38, 18, 26,  5, 27, 31,\n",
       "        9, 23, 10,  8, 21, 18, 16, 11, 31, 35, 27, 32, 34, 23,  2, 19, 34,\n",
       "        6,  3, 23, 29, 15, 35, 23,  3, 34, 39, 28, 22, 29, 26, 37, 17, 11,\n",
       "        1,  0, 18,  3, 10, 29, 29, 30, 23, 29, 32, 21,  4])"
      ]
     },
     "execution_count": 67,
     "metadata": {},
     "output_type": "execute_result"
    }
   ],
   "source": [
    "f"
   ]
  },
  {
   "cell_type": "code",
   "execution_count": 68,
   "metadata": {},
   "outputs": [
    {
     "data": {
      "text/plain": [
       "(64,)"
      ]
     },
     "execution_count": 68,
     "metadata": {},
     "output_type": "execute_result"
    }
   ],
   "source": [
    "f.shape"
   ]
  },
  {
   "cell_type": "code",
   "execution_count": 69,
   "metadata": {},
   "outputs": [
    {
     "data": {
      "text/plain": [
       "array([[29, 14, 31, 11, 19, 23, 37, 29],\n",
       "       [24,  8,  9, 31, 34,  3, 17, 29],\n",
       "       [ 0, 18, 23, 35,  6, 34, 11, 30],\n",
       "       [27, 38, 10, 27,  3, 39,  1, 23],\n",
       "       [13, 18,  8, 32, 23, 28,  0, 29],\n",
       "       [16, 26, 21, 34, 29, 22, 18, 32],\n",
       "       [21,  5, 18, 23, 15, 29,  3, 21],\n",
       "       [26, 27, 16,  2, 35, 26, 10,  4]])"
      ]
     },
     "execution_count": 69,
     "metadata": {},
     "output_type": "execute_result"
    }
   ],
   "source": [
    "e.T #creating transpose of a matrix"
   ]
  },
  {
   "cell_type": "code",
   "execution_count": 70,
   "metadata": {},
   "outputs": [],
   "source": [
    "f=e.reshape(4,4,4)"
   ]
  },
  {
   "cell_type": "code",
   "execution_count": 71,
   "metadata": {},
   "outputs": [
    {
     "data": {
      "text/plain": [
       "array([[[29, 24,  0, 27],\n",
       "        [13, 16, 21, 26],\n",
       "        [14,  8, 18, 38],\n",
       "        [18, 26,  5, 27]],\n",
       "\n",
       "       [[31,  9, 23, 10],\n",
       "        [ 8, 21, 18, 16],\n",
       "        [11, 31, 35, 27],\n",
       "        [32, 34, 23,  2]],\n",
       "\n",
       "       [[19, 34,  6,  3],\n",
       "        [23, 29, 15, 35],\n",
       "        [23,  3, 34, 39],\n",
       "        [28, 22, 29, 26]],\n",
       "\n",
       "       [[37, 17, 11,  1],\n",
       "        [ 0, 18,  3, 10],\n",
       "        [29, 29, 30, 23],\n",
       "        [29, 32, 21,  4]]])"
      ]
     },
     "execution_count": 71,
     "metadata": {},
     "output_type": "execute_result"
    }
   ],
   "source": [
    "f"
   ]
  },
  {
   "cell_type": "code",
   "execution_count": 76,
   "metadata": {},
   "outputs": [],
   "source": [
    "g=np.random.randint(20,size=(4,5))"
   ]
  },
  {
   "cell_type": "code",
   "execution_count": 77,
   "metadata": {},
   "outputs": [
    {
     "data": {
      "text/plain": [
       "array([[ 2, 13, 13, 12,  1],\n",
       "       [13, 16,  9, 17,  5],\n",
       "       [ 9,  5,  2,  2, 13],\n",
       "       [10,  2, 15, 12, 14]])"
      ]
     },
     "execution_count": 77,
     "metadata": {},
     "output_type": "execute_result"
    }
   ],
   "source": [
    "g"
   ]
  },
  {
   "cell_type": "code",
   "execution_count": 78,
   "metadata": {},
   "outputs": [
    {
     "data": {
      "text/plain": [
       "array([[ 2, 13, 13, 12,  1, 13, 16,  9, 17,  5],\n",
       "       [ 9,  5,  2,  2, 13, 10,  2, 15, 12, 14]])"
      ]
     },
     "execution_count": 78,
     "metadata": {},
     "output_type": "execute_result"
    }
   ],
   "source": [
    "g.reshape(2,10)"
   ]
  },
  {
   "cell_type": "code",
   "execution_count": 81,
   "metadata": {},
   "outputs": [
    {
     "data": {
      "text/plain": [
       "array([10,  2, 15, 12, 14])"
      ]
     },
     "execution_count": 81,
     "metadata": {},
     "output_type": "execute_result"
    }
   ],
   "source": [
    "g[3]"
   ]
  },
  {
   "cell_type": "code",
   "execution_count": 82,
   "metadata": {},
   "outputs": [],
   "source": [
    "g[3,2]=999"
   ]
  },
  {
   "cell_type": "code",
   "execution_count": 83,
   "metadata": {},
   "outputs": [
    {
     "data": {
      "text/plain": [
       "array([[  2,  13,  13,  12,   1],\n",
       "       [ 13,  16,   9,  17,   5],\n",
       "       [  9,   5,   2,   2,  13],\n",
       "       [ 10,   2, 999,  12,  14]])"
      ]
     },
     "execution_count": 83,
     "metadata": {},
     "output_type": "execute_result"
    }
   ],
   "source": [
    "g"
   ]
  },
  {
   "cell_type": "code",
   "execution_count": 84,
   "metadata": {},
   "outputs": [
    {
     "data": {
      "text/plain": [
       "array([17,  2])"
      ]
     },
     "execution_count": 84,
     "metadata": {},
     "output_type": "execute_result"
    }
   ],
   "source": [
    "g[1:3,3] # this mean 1 to 2 rows not \"0 row\" and 4 column not \"3 column\" as it start from (0,0)"
   ]
  },
  {
   "cell_type": "code",
   "execution_count": 86,
   "metadata": {},
   "outputs": [
    {
     "data": {
      "text/plain": [
       "array([12, 17])"
      ]
     },
     "execution_count": 86,
     "metadata": {},
     "output_type": "execute_result"
    }
   ],
   "source": [
    "g[0:2,3] #0 to 1 rows and 3 column starting from 0 column and o rows"
   ]
  },
  {
   "cell_type": "code",
   "execution_count": 91,
   "metadata": {},
   "outputs": [
    {
     "data": {
      "text/plain": [
       "array([[  52,   63,   63,   62,   51],\n",
       "       [  63,   66,   59,   67,   55],\n",
       "       [  59,   55,   52,   52,   63],\n",
       "       [  60,   52, 1049,   62,   64]])"
      ]
     },
     "execution_count": 91,
     "metadata": {},
     "output_type": "execute_result"
    }
   ],
   "source": [
    "np.add(g,50) #adding 50 to each data elements"
   ]
  },
  {
   "cell_type": "code",
   "execution_count": 94,
   "metadata": {},
   "outputs": [
    {
     "data": {
      "text/plain": [
       "array([[  1,  12,  12,  11,   0],\n",
       "       [ 12,  15,   8,  16,   4],\n",
       "       [  8,   4,   1,   1,  12],\n",
       "       [  9,   1, 998,  11,  13]])"
      ]
     },
     "execution_count": 94,
     "metadata": {},
     "output_type": "execute_result"
    }
   ],
   "source": [
    "np.subtract(g,1)"
   ]
  },
  {
   "cell_type": "code",
   "execution_count": 95,
   "metadata": {},
   "outputs": [
    {
     "data": {
      "text/plain": [
       "array([[   8,   52,   52,   48,    4],\n",
       "       [  52,   64,   36,   68,   20],\n",
       "       [  36,   20,    8,    8,   52],\n",
       "       [  40,    8, 3996,   48,   56]])"
      ]
     },
     "execution_count": 95,
     "metadata": {},
     "output_type": "execute_result"
    }
   ],
   "source": [
    "np.multiply(g,4)"
   ]
  },
  {
   "cell_type": "code",
   "execution_count": 97,
   "metadata": {},
   "outputs": [
    {
     "data": {
      "text/plain": [
       "array([[     4,    169,    169,    144,      1],\n",
       "       [   169,    256,     81,    289,     25],\n",
       "       [    81,     25,      4,      4,    169],\n",
       "       [   100,      4, 998001,    144,    196]], dtype=int32)"
      ]
     },
     "execution_count": 97,
     "metadata": {},
     "output_type": "execute_result"
    }
   ],
   "source": [
    "np.power(g,2)"
   ]
  },
  {
   "cell_type": "code",
   "execution_count": 100,
   "metadata": {},
   "outputs": [
    {
     "ename": "ValueError",
     "evalue": "operands could not be broadcast together with shapes (4,5) (8,8) ",
     "output_type": "error",
     "traceback": [
      "\u001b[1;31m---------------------------------------------------------------------------\u001b[0m",
      "\u001b[1;31mValueError\u001b[0m                                Traceback (most recent call last)",
      "\u001b[1;32m<ipython-input-100-95d51d43e666>\u001b[0m in \u001b[0;36m<module>\u001b[1;34m\u001b[0m\n\u001b[1;32m----> 1\u001b[1;33m \u001b[0mnp\u001b[0m\u001b[1;33m.\u001b[0m\u001b[0madd\u001b[0m\u001b[1;33m(\u001b[0m\u001b[0mg\u001b[0m\u001b[1;33m,\u001b[0m\u001b[0me\u001b[0m\u001b[1;33m)\u001b[0m\u001b[1;33m\u001b[0m\u001b[1;33m\u001b[0m\u001b[0m\n\u001b[0m",
      "\u001b[1;31mValueError\u001b[0m: operands could not be broadcast together with shapes (4,5) (8,8) "
     ]
    }
   ],
   "source": [
    "np.add(g,e)\n",
    "np.multiply(g,e)\n",
    "np.divide(g,e)\n",
    "np.subtract(g,e)"
   ]
  },
  {
   "cell_type": "code",
   "execution_count": 101,
   "metadata": {},
   "outputs": [
    {
     "data": {
      "text/plain": [
       "58.45"
      ]
     },
     "execution_count": 101,
     "metadata": {},
     "output_type": "execute_result"
    }
   ],
   "source": [
    "np.mean(g) #g.mean()"
   ]
  },
  {
   "cell_type": "code",
   "execution_count": 120,
   "metadata": {},
   "outputs": [
    {
     "data": {
      "text/plain": [
       "58.45"
      ]
     },
     "execution_count": 120,
     "metadata": {},
     "output_type": "execute_result"
    }
   ],
   "source": []
  },
  {
   "cell_type": "code",
   "execution_count": 102,
   "metadata": {},
   "outputs": [
    {
     "data": {
      "text/plain": [
       "array([  8.5 ,   9.  , 255.75,  10.75,   8.25])"
      ]
     },
     "execution_count": 102,
     "metadata": {},
     "output_type": "execute_result"
    }
   ],
   "source": [
    "np.mean(g,axis=0) #g.mean(axis=0)"
   ]
  },
  {
   "cell_type": "code",
   "execution_count": 105,
   "metadata": {},
   "outputs": [
    {
     "data": {
      "text/plain": [
       "array([  8.2,  12. ,   6.2, 207.4])"
      ]
     },
     "execution_count": 105,
     "metadata": {},
     "output_type": "execute_result"
    }
   ],
   "source": [
    "np.mean(g,axis=1) # g.mean(axis=1)"
   ]
  },
  {
   "cell_type": "code",
   "execution_count": 107,
   "metadata": {},
   "outputs": [
    {
     "data": {
      "text/plain": [
       "array([[  2,  13,  13,  12,   1],\n",
       "       [ 13,  16,   9,  17,   5],\n",
       "       [  9,   5,   2,   2,  13],\n",
       "       [ 10,   2, 999,  12,  14]])"
      ]
     },
     "execution_count": 107,
     "metadata": {},
     "output_type": "execute_result"
    }
   ],
   "source": [
    "g"
   ]
  },
  {
   "cell_type": "code",
   "execution_count": 110,
   "metadata": {},
   "outputs": [
    {
     "data": {
      "text/plain": [
       "array([ 13,  16, 999,  17,  14])"
      ]
     },
     "execution_count": 110,
     "metadata": {},
     "output_type": "execute_result"
    }
   ],
   "source": [
    "np.max(g,axis=0) #g.max(axis=0)"
   ]
  },
  {
   "cell_type": "code",
   "execution_count": 111,
   "metadata": {},
   "outputs": [
    {
     "data": {
      "text/plain": [
       "array([1, 5, 2, 2])"
      ]
     },
     "execution_count": 111,
     "metadata": {},
     "output_type": "execute_result"
    }
   ],
   "source": [
    "np.min(g,axis=1) #g.min(axis=1)"
   ]
  },
  {
   "cell_type": "code",
   "execution_count": 123,
   "metadata": {},
   "outputs": [
    {
     "data": {
      "text/plain": [
       "999"
      ]
     },
     "execution_count": 123,
     "metadata": {},
     "output_type": "execute_result"
    }
   ],
   "source": [
    "np.max(g) # g.max()"
   ]
  },
  {
   "cell_type": "code",
   "execution_count": 113,
   "metadata": {},
   "outputs": [
    {
     "data": {
      "text/plain": [
       "1169"
      ]
     },
     "execution_count": 113,
     "metadata": {},
     "output_type": "execute_result"
    }
   ],
   "source": [
    "g.sum() # np.sum(g)"
   ]
  },
  {
   "cell_type": "code",
   "execution_count": 114,
   "metadata": {},
   "outputs": [
    {
     "data": {
      "text/plain": [
       "array([  34,   36, 1023,   43,   33])"
      ]
     },
     "execution_count": 114,
     "metadata": {},
     "output_type": "execute_result"
    }
   ],
   "source": [
    "np.sum(g,axis=0) # g.sum(axis=0)"
   ]
  },
  {
   "cell_type": "code",
   "execution_count": 116,
   "metadata": {},
   "outputs": [
    {
     "data": {
      "text/plain": [
       "array([  41,   60,   31, 1037])"
      ]
     },
     "execution_count": 116,
     "metadata": {},
     "output_type": "execute_result"
    }
   ],
   "source": [
    "np.sum(g,axis=1) # g.sum(axis=1)"
   ]
  },
  {
   "cell_type": "code",
   "execution_count": null,
   "metadata": {},
   "outputs": [],
   "source": []
  }
 ],
 "metadata": {
  "kernelspec": {
   "display_name": "Python 3",
   "language": "python",
   "name": "python3"
  },
  "language_info": {
   "codemirror_mode": {
    "name": "ipython",
    "version": 3
   },
   "file_extension": ".py",
   "mimetype": "text/x-python",
   "name": "python",
   "nbconvert_exporter": "python",
   "pygments_lexer": "ipython3",
   "version": "3.7.4"
  }
 },
 "nbformat": 4,
 "nbformat_minor": 4
}
